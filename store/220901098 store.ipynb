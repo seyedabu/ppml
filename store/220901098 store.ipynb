{
 "cells": [
  {
   "cell_type": "code",
   "execution_count": 19,
   "id": "698200ca",
   "metadata": {},
   "outputs": [
    {
     "name": "stdout",
     "output_type": "stream",
     "text": [
      "         a   b   c\n",
      "one     11  21  31\n",
      "two      1  22  32\n",
      "three  315  32  33\n"
     ]
    }
   ],
   "source": [
    "import pandas as pd\n",
    "df=pd.DataFrame([[11,21,31],[1,22,32],[315,32,33]],\n",
    "                index=['one','two','three'],columns=['a','b','c'])\n",
    "print(df)"
   ]
  },
  {
   "cell_type": "code",
   "execution_count": 21,
   "id": "0bf1efdf",
   "metadata": {},
   "outputs": [
    {
     "name": "stdout",
     "output_type": "stream",
     "text": [
      "Taking the input from DataFrame and storing in the Excel File\n"
     ]
    }
   ],
   "source": [
    "#Taking the input from DataFrame and storing in the excel File\n",
    "print(\"Taking the input from DataFrame and storing in the Excel File\")\n",
    "df.to_csv('E:/SHEIK/employees - employeess.csv')"
   ]
  },
  {
   "cell_type": "code",
   "execution_count": 3,
   "id": "648c721a",
   "metadata": {},
   "outputs": [],
   "source": [
    "import pandas as pd\n",
    "#Second DataFrame input to another Excel File\n",
    "df=pd.DataFrame([[110,210,310],[12,220,320],[310,320,330]],\n",
    "               index=['four','five','six'],columns=['a','b','c'])\n",
    "df.to_csv('E:/SHEIK/employees - employeess.csv')"
   ]
  },
  {
   "cell_type": "code",
   "execution_count": 6,
   "id": "948091c3",
   "metadata": {},
   "outputs": [
    {
     "name": "stderr",
     "output_type": "stream",
     "text": [
      "C:\\Users\\Tcs\\AppData\\Local\\Temp\\ipykernel_8912\\1302695003.py:4: FutureWarning: The frame.append method is deprecated and will be removed from pandas in a future version. Use pandas.concat instead.\n",
      "  z=x.append(y)\n"
     ]
    }
   ],
   "source": [
    "#Merging two Excel files input into third file\n",
    "x=pd.read_csv('E:/SHEIK/employees - employeess.csv')\n",
    "y=pd.read_csv('E:/SHEIK/employees - employeess.csv')\n",
    "z=x.append(y)\n",
    "#z=pd.cancat([x,y])\n",
    "z.to_csv('E:/SHEIK/employees - employeess.csv')"
   ]
  },
  {
   "cell_type": "code",
   "execution_count": 7,
   "id": "8ed672cb",
   "metadata": {},
   "outputs": [
    {
     "name": "stdout",
     "output_type": "stream",
     "text": [
      "   Unnamed: 0.1 Unnamed: 0    a    b    c\n",
      "1             1       five   12  220  320\n",
      "4             1       five   12  220  320\n",
      "1             1       five   12  220  320\n",
      "4             1       five   12  220  320\n",
      "0             0       four  110  210  310\n",
      "3             0       four  110  210  310\n",
      "0             0       four  110  210  310\n",
      "3             0       four  110  210  310\n",
      "2             2        six  310  320  330\n",
      "5             2        six  310  320  330\n",
      "2             2        six  310  320  330\n",
      "5             2        six  310  320  330\n",
      "    Unnamed: 0.2  Unnamed: 0.1 Unnamed: 0    a    b    c\n",
      "0              1             1       five   12  220  320\n",
      "1              4             1       five   12  220  320\n",
      "2              1             1       five   12  220  320\n",
      "3              4             1       five   12  220  320\n",
      "4              0             0       four  110  210  310\n",
      "5              3             0       four  110  210  310\n",
      "6              0             0       four  110  210  310\n",
      "7              3             0       four  110  210  310\n",
      "8              2             2        six  310  320  330\n",
      "9              5             2        six  310  320  330\n",
      "10             2             2        six  310  320  330\n",
      "11             5             2        six  310  320  330\n",
      "['Unnamed: 0.2', 'Unnamed: 0.1', 'Unnamed: 0', 'a', 'b', 'c']\n",
      "12\n"
     ]
    }
   ],
   "source": [
    "#Sorting the column values\n",
    "df=z.sort_values([\"a\"])\n",
    "print(df)\n",
    "df.to_csv('E:/SHEIK/employees - employeess.csv')\n",
    "df=pd.read_csv('E:/SHEIK/employees - employeess.csv')\n",
    "print(df)\n",
    "print(list(df))\n",
    "print(format(len(df)))"
   ]
  },
  {
   "cell_type": "code",
   "execution_count": null,
   "id": "a9b0907b",
   "metadata": {},
   "outputs": [],
   "source": []
  }
 ],
 "metadata": {
  "kernelspec": {
   "display_name": "Python 3 (ipykernel)",
   "language": "python",
   "name": "python3"
  },
  "language_info": {
   "codemirror_mode": {
    "name": "ipython",
    "version": 3
   },
   "file_extension": ".py",
   "mimetype": "text/x-python",
   "name": "python",
   "nbconvert_exporter": "python",
   "pygments_lexer": "ipython3",
   "version": "3.9.12"
  }
 },
 "nbformat": 4,
 "nbformat_minor": 5
}
