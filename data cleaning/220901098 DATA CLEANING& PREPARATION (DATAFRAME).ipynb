{
 "cells": [
  {
   "cell_type": "code",
   "execution_count": 3,
   "id": "19ee87d9",
   "metadata": {},
   "outputs": [
    {
     "ename": "TypeError",
     "evalue": "'method' object is not subscriptable",
     "output_type": "error",
     "traceback": [
      "\u001b[1;31m---------------------------------------------------------------------------\u001b[0m",
      "\u001b[1;31mTypeError\u001b[0m                                 Traceback (most recent call last)",
      "Input \u001b[1;32mIn [3]\u001b[0m, in \u001b[0;36m<cell line: 4>\u001b[1;34m()\u001b[0m\n\u001b[0;32m      2\u001b[0m \u001b[38;5;28;01mimport\u001b[39;00m \u001b[38;5;21;01mnumpy\u001b[39;00m \u001b[38;5;28;01mas\u001b[39;00m \u001b[38;5;21;01mnp\u001b[39;00m\n\u001b[0;32m      3\u001b[0m df\u001b[38;5;241m=\u001b[39mpd\u001b[38;5;241m.\u001b[39mDataFrame(np\u001b[38;5;241m.\u001b[39mrandom\u001b[38;5;241m.\u001b[39mrandn(\u001b[38;5;241m5\u001b[39m,\u001b[38;5;241m3\u001b[39m),index\u001b[38;5;241m=\u001b[39m[\u001b[38;5;124m'\u001b[39m\u001b[38;5;124ma\u001b[39m\u001b[38;5;124m'\u001b[39m,\u001b[38;5;124m'\u001b[39m\u001b[38;5;124mc\u001b[39m\u001b[38;5;124m'\u001b[39m,\u001b[38;5;124m'\u001b[39m\u001b[38;5;124me\u001b[39m\u001b[38;5;124m'\u001b[39m,\u001b[38;5;124m'\u001b[39m\u001b[38;5;124mf\u001b[39m\u001b[38;5;124m'\u001b[39m,\u001b[38;5;124m'\u001b[39m\u001b[38;5;124mh\u001b[39m\u001b[38;5;124m'\u001b[39m],columns\u001b[38;5;241m=\u001b[39m[\u001b[38;5;124m'\u001b[39m\u001b[38;5;124mone\u001b[39m\u001b[38;5;124m'\u001b[39m,\u001b[38;5;124m'\u001b[39m\u001b[38;5;124mtwo\u001b[39m\u001b[38;5;124m'\u001b[39m,\u001b[38;5;124m'\u001b[39m\u001b[38;5;124mthree\u001b[39m\u001b[38;5;124m'\u001b[39m])\n\u001b[1;32m----> 4\u001b[0m df\u001b[38;5;241m=\u001b[39m\u001b[43mdf\u001b[49m\u001b[38;5;241;43m.\u001b[39;49m\u001b[43mreindex\u001b[49m\u001b[43m[\u001b[49m\u001b[43m(\u001b[49m\u001b[38;5;124;43m'\u001b[39;49m\u001b[38;5;124;43ma\u001b[39;49m\u001b[38;5;124;43m'\u001b[39;49m\u001b[43m,\u001b[49m\u001b[38;5;124;43m'\u001b[39;49m\u001b[38;5;124;43mb\u001b[39;49m\u001b[38;5;124;43m'\u001b[39;49m\u001b[43m,\u001b[49m\u001b[38;5;124;43m'\u001b[39;49m\u001b[38;5;124;43mc\u001b[39;49m\u001b[38;5;124;43m'\u001b[39;49m\u001b[43m,\u001b[49m\u001b[38;5;124;43m'\u001b[39;49m\u001b[38;5;124;43md\u001b[39;49m\u001b[38;5;124;43m'\u001b[39;49m\u001b[43m,\u001b[49m\u001b[38;5;124;43m'\u001b[39;49m\u001b[38;5;124;43me\u001b[39;49m\u001b[38;5;124;43m'\u001b[39;49m\u001b[43m,\u001b[49m\u001b[38;5;124;43m'\u001b[39;49m\u001b[38;5;124;43mf\u001b[39;49m\u001b[38;5;124;43m'\u001b[39;49m\u001b[43m,\u001b[49m\u001b[38;5;124;43m'\u001b[39;49m\u001b[38;5;124;43mg\u001b[39;49m\u001b[38;5;124;43m'\u001b[39;49m\u001b[43m,\u001b[49m\u001b[38;5;124;43m'\u001b[39;49m\u001b[38;5;124;43mh\u001b[39;49m\u001b[38;5;124;43m'\u001b[39;49m\u001b[43m)\u001b[49m\u001b[43m]\u001b[49m\n\u001b[0;32m      5\u001b[0m \u001b[38;5;28mprint\u001b[39m(\u001b[38;5;124m\"\u001b[39m\u001b[38;5;124mOriginal DataFrame with NaN\u001b[39m\u001b[38;5;130;01m\\n\u001b[39;00m\u001b[38;5;124m\"\u001b[39m,df)\n\u001b[0;32m      6\u001b[0m \u001b[38;5;28mprint\u001b[39m(\u001b[38;5;124m\"\u001b[39m\u001b[38;5;130;01m\\n\u001b[39;00m\u001b[38;5;124m\"\u001b[39m)\n",
      "\u001b[1;31mTypeError\u001b[0m: 'method' object is not subscriptable"
     ]
    }
   ],
   "source": [
    "import pandas as pd\n",
    "import numpy as np\n",
    "df=pd.DataFrame(np.random.randn(5,3),index=['a','c','e','f','h'],columns=['one','two','three'])\n",
    "df=df.reindex[('a','b','c','d','e','f','g','h')]\n",
    "print(\"Original DataFrame with NaN\\n\",df)\n",
    "print(\"\\n\")\n",
    "print(\"Dropped DataFrame\\n\",df.dropna())\n",
    "print(\"\\n\")\n"
   ]
  },
  {
   "cell_type": "code",
   "execution_count": 8,
   "id": "a460284e",
   "metadata": {},
   "outputs": [
    {
     "name": "stdout",
     "output_type": "stream",
     "text": [
      "Original DataFrame:\n",
      "         one       two     three\n",
      "a -0.975012  0.493911 -0.569574\n",
      "b       NaN       NaN       NaN\n",
      "c -0.453400 -1.353737  0.094560\n",
      "\n",
      "\n",
      "Nal replaced with'0':\n",
      "\n",
      "        one       two     three\n",
      "a -0.975012  0.493911 -0.569574\n",
      "b  0.000000  0.000000  0.000000\n",
      "c -0.453400 -1.353737  0.094560\n"
     ]
    }
   ],
   "source": [
    "df=pd.DataFrame(np.random.randn(3, 3), index=['a','c','e'], columns=['one', 'two', 'three'])\n",
    "df=df.reindex(['a', 'b', 'c'])\n",
    "print (\"Original DataFrame:\\n\",df)\n",
    "print(\"\\n\")\n",
    "print (\"Nal replaced with'0':\\n\")\n",
    "print(df.fillna(0))\n",
    "       \n"
   ]
  },
  {
   "cell_type": "code",
   "execution_count": 13,
   "id": "3ff04500",
   "metadata": {},
   "outputs": [
    {
     "name": "stdout",
     "output_type": "stream",
     "text": [
      "\n",
      "Original DataFrame:\n",
      "     one   two\n",
      "0    10  1000\n",
      "1    20     0\n",
      "2    30    30\n",
      "3    40    40\n",
      "4    50    50\n",
      "5  2000    60\n",
      "\n",
      " DataFrame with replaced values:\n",
      "\n",
      "   one  two\n",
      "0   10   10\n",
      "1   20  100\n",
      "2   30   30\n",
      "3  400  400\n",
      "4   50   50\n",
      "5   60   60\n"
     ]
    }
   ],
   "source": [
    "df=pd.DataFrame({'one':[10,20,30,40,50,2000], 'two':[1000,0,30,40,50,60]})\n",
    "print(\"\\nOriginal DataFrame:\\n\",df)\n",
    "print(\"\\n DataFrame with replaced values:\\n\")\n",
    "print(df.replace({1000:10,2000:60,40:400,0:100}))\n"
   ]
  },
  {
   "cell_type": "code",
   "execution_count": 21,
   "id": "fbefebfa",
   "metadata": {},
   "outputs": [
    {
     "name": "stdout",
     "output_type": "stream",
     "text": [
      "Original DataFrame:\n",
      "         one       two     three\n",
      "a -1.567682  0.145448  0.925353\n",
      "b       NaN       NaN       NaN\n",
      "c  0.820785 -1.178903  0.053328\n",
      "d       NaN       NaN       NaN\n",
      "e  1.029534  1.007350  1.149076\n",
      "f  1.468017  0.127269  0.141759\n",
      "g       NaN       NaN       NaN\n",
      "h  0.589724  0.037105 -0.264997\n",
      "\n",
      "NaN-with True fill:\n",
      "\n",
      "a    False\n",
      "b     True\n",
      "c    False\n",
      "d     True\n",
      "e    False\n",
      "f    False\n",
      "g     True\n",
      "h    False\n",
      "Name: one, dtype: bool\n"
     ]
    }
   ],
   "source": [
    "df = pd.DataFrame(np.random.randn(5,3),index=['a','c','e','f','h'],columns=['one','two','three'])\n",
    "df=df.reindex(['a','b','c','d','e','f','g','h'])\n",
    "print(\"Original DataFrame:\\n\",df)\n",
    "print(\"\\nNaN-with True fill:\\n\")\n",
    "print(df['one'].isnull())"
   ]
  },
  {
   "cell_type": "code",
   "execution_count": 18,
   "id": "5254275c",
   "metadata": {},
   "outputs": [
    {
     "name": "stdout",
     "output_type": "stream",
     "text": [
      "Original DataFrame:\n",
      "         one       two     three\n",
      "a -0.547173 -1.310615 -0.474754\n",
      "b       NaN       NaN       NaN\n",
      "c -1.579731 -1.053280  1.337034\n",
      "d       NaN       NaN       NaN\n",
      "e  0.939925  1.282000  0.410530\n",
      "f -1.744501  0.183721 -0.921692\n",
      "g       NaN       NaN       NaN\n",
      "h -1.341303 -0.048076  0.530049\n",
      "\n",
      "NaN- Filled with Forward values:\n",
      "\n",
      "        one       two     three\n",
      "a -0.547173 -1.310615 -0.474754\n",
      "b -0.547173 -1.310615 -0.474754\n",
      "c -1.579731 -1.053280  1.337034\n",
      "d -1.579731 -1.053280  1.337034\n",
      "e  0.939925  1.282000  0.410530\n",
      "f -1.744501  0.183721 -0.921692\n",
      "g -1.744501  0.183721 -0.921692\n",
      "h -1.341303 -0.048076  0.530049\n",
      "\n",
      "NaN- Filled with Background values:\n",
      "\n",
      "        one       two     three\n",
      "a -0.547173 -1.310615 -0.474754\n",
      "b -1.579731 -1.053280  1.337034\n",
      "c -1.579731 -1.053280  1.337034\n",
      "d  0.939925  1.282000  0.410530\n",
      "e  0.939925  1.282000  0.410530\n",
      "f -1.744501  0.183721 -0.921692\n",
      "g -1.341303 -0.048076  0.530049\n",
      "h -1.341303 -0.048076  0.530049\n"
     ]
    }
   ],
   "source": [
    "df = pd.DataFrame(np.random.randn(5,3),index=['a','c','e','f','h'],columns=['one','two','three'])\n",
    "df=df.reindex(['a','b','c','d','e','f','g','h'])\n",
    "print(\"Original DataFrame:\\n\",df)\n",
    "print(\"\\nNaN- Filled with Forward values:\\n\")\n",
    "print(df.fillna(method='pad'))\n",
    "print(\"\\nNaN- Filled with Background values:\\n\")\n",
    "print(df.fillna(method='bfill'))"
   ]
  }
 ],
 "metadata": {
  "kernelspec": {
   "display_name": "Python 3 (ipykernel)",
   "language": "python",
   "name": "python3"
  },
  "language_info": {
   "codemirror_mode": {
    "name": "ipython",
    "version": 3
   },
   "file_extension": ".py",
   "mimetype": "text/x-python",
   "name": "python",
   "nbconvert_exporter": "python",
   "pygments_lexer": "ipython3",
   "version": "3.9.12"
  }
 },
 "nbformat": 4,
 "nbformat_minor": 5
}
